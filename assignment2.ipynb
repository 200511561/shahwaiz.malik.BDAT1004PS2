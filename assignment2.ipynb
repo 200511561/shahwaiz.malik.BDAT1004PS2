{
 "cells": [
  {
   "cell_type": "markdown",
   "id": "9beaccfb",
   "metadata": {},
   "source": [
    "Question 1\n",
    "Consider the following Python module:\n",
    "a = 0\n",
    "def b():\n",
    " global a\n",
    " a = c(a)\n",
    "def c(a):\n",
    " return a + 2\n",
    "After importing the module into the interpreter, you execute:\n",
    ">>> b()\n",
    ">>> b()\n",
    ">>> b()\n",
    ">>> a\n",
    "?\n",
    "What value is displayed when the last expression (a) is evaluated? Explain your\n",
    "answer by indicating what happens in every executed statement."
   ]
  },
  {
   "cell_type": "code",
   "execution_count": 1,
   "id": "d7391f58",
   "metadata": {},
   "outputs": [
    {
     "name": "stdout",
     "output_type": "stream",
     "text": [
      "2\n",
      "4\n",
      "6\n",
      "6\n"
     ]
    }
   ],
   "source": [
    "a=0\n",
    "\n",
    "def b():\n",
    "    global a\n",
    "    a = c(a)\n",
    "    return a\n",
    "\n",
    "def c(a):\n",
    "    return a + 2\n",
    "\n",
    "print(b())\n",
    "print(b())\n",
    "print(b())\n",
    "print(a)"
   ]
  },
  {
   "cell_type": "markdown",
   "id": "79793e92",
   "metadata": {},
   "source": [
    "Question 2\n",
    "Function fileLength(), given to you, takes the name of a file as input and returns\n",
    "the length of the file:\n",
    ">>> fileLength('midterm.py')\n",
    "284\n",
    ">>> fileLength('idterm.py')\n",
    "Traceback (most recent call last):\n",
    "File \"<pyshell#34>\", line 1, in <module>\n",
    " fileLength('idterm.py')\n",
    "File \"/Users/me/midterm.py\", line 3, in fileLength\n",
    " infile = open(filename)\n",
    "FileNotFoundError: [Errno 2] No such file or directory:\n",
    "'idterm.py'\n",
    "As shown above, if the file cannot be found by the interpreter or if it cannot be read\n",
    "as a text file, an exception will be raised. Modify function fileLength() so that a\n",
    "friendly message is printed instead:\n",
    ">>> fileLength('midterm.py')\n",
    "358\n",
    ">>> fileLength('idterm.py')\n",
    "File idterm.py not found."
   ]
  },
  {
   "cell_type": "code",
   "execution_count": 4,
   "id": "cf5c9ae2",
   "metadata": {},
   "outputs": [],
   "source": [
    "def fileLength(filename):\n",
    "    try:\n",
    "        open_file = open(filename, 'r')\n",
    "        file_data = open_file.read()\n",
    "        length_of_file = len(file_data)\n",
    "        open_file.close()\n",
    "        return length_of_file\n",
    "    except:\n",
    "        return \"file \"+ filename + \" not found.\"\n",
    "    "
   ]
  },
  {
   "cell_type": "code",
   "execution_count": 5,
   "id": "9cc1cc8d",
   "metadata": {},
   "outputs": [
    {
     "data": {
      "text/plain": [
       "441"
      ]
     },
     "execution_count": 5,
     "metadata": {},
     "output_type": "execute_result"
    }
   ],
   "source": [
    "fileLength('w3c.html')"
   ]
  },
  {
   "cell_type": "code",
   "execution_count": 6,
   "id": "7e6559e0",
   "metadata": {},
   "outputs": [
    {
     "data": {
      "text/plain": [
       "'file idterm.py not found.'"
      ]
     },
     "execution_count": 6,
     "metadata": {},
     "output_type": "execute_result"
    }
   ],
   "source": [
    "fileLength(\"idterm.py\")"
   ]
  },
  {
   "cell_type": "markdown",
   "id": "36ccf507",
   "metadata": {},
   "source": [
    "Question 3\n",
    "Write a class named Marsupial that can be used as shown below:\n",
    ">>> m = Marsupial()\n",
    ">>> m.put_in_pouch('doll')\n",
    ">>> m.put_in_pouch('firetruck')\n",
    ">>> m.put_in_pouch('kitten')\n",
    ">>> m.pouch_contents()\n",
    "['doll', 'firetruck', 'kitten']\n",
    "Now write a class named Kangaroo as a subclass of Marsupial that inherits all the\n",
    "attributes of Marsupial and also:\n",
    "a. extends the Marsupial __init__ constructor to take, as input, the\n",
    "coordinates x and y of the Kangaroo object,\n",
    "b. supports method jump that takes number values dx and dy as input and\n",
    "moves the kangaroo by dx units along the x-axis and by dy units along the yaxis, and\n",
    "c. overloads the __str__ operator so it behaves as shown below.\n",
    ">>> k = Kangaroo(0,0)\n",
    ">>> print(k)\n",
    "I am a Kangaroo located at coordinates (0,0)\n",
    ">>> k.put_in_pouch('doll')\n",
    ">>> k.put_in_pouch('firetruck')\n",
    ">>> k.put_in_pouch('kitten')\n",
    ">>> k.pouch_contents()\n",
    "['doll', 'firetruck', 'kitten']\n",
    ">>> k.jump(1,0)\n",
    ">>> k.jump(1,0)\n",
    ">>> k.jump(1,0)\n",
    ">>> print(k)\n",
    "I am a Kangaroo located at coordinates (3,0)"
   ]
  },
  {
   "cell_type": "code",
   "execution_count": 7,
   "id": "4f393f9d",
   "metadata": {},
   "outputs": [
    {
     "name": "stdout",
     "output_type": "stream",
     "text": [
      "['doll', 'firetruck', 'kitten']\n"
     ]
    }
   ],
   "source": [
    "class Marsupial:\n",
    "\n",
    "    def __init__(self):\n",
    "        self.new_list = []\n",
    "        self.new_list.clear()\n",
    "\n",
    "    def put_in_pouch(self, value):\n",
    "        self.new_list.append(value)\n",
    "\n",
    "    def pouch_contents(self):\n",
    "        return self.new_list\n",
    "    \n",
    "m = Marsupial()\n",
    "m.put_in_pouch('doll')\n",
    "m.put_in_pouch('firetruck')\n",
    "m.put_in_pouch('kitten')\n",
    "print(m.pouch_contents())"
   ]
  },
  {
   "cell_type": "code",
   "execution_count": 8,
   "id": "abf9d253",
   "metadata": {},
   "outputs": [
    {
     "name": "stdout",
     "output_type": "stream",
     "text": [
      "I am a Kangaroo located at coordinates (0,0)\n",
      "['doll', 'firetruck', 'kitten']\n",
      "I am a Kangaroo located at coordinates (3,0)\n"
     ]
    }
   ],
   "source": [
    "class Kangaroo(Marsupial):\n",
    "\n",
    "    def __init__(self,x,y):\n",
    "        self.new_list = []\n",
    "        self.new_list.clear ()\n",
    "        self.x = x\n",
    "        self.y = y\n",
    "        \n",
    "    def  __str__(self):\n",
    "         return (\"I am a Kangaroo located at coordinates (\"+str(self.x)+\",\"+str(self.y)+\")\")\n",
    "\n",
    "    def jump(self,dx,dy):\n",
    "        self.x = self.x + dx\n",
    "        self.y = self.y + dy\n",
    "    \n",
    "        \n",
    "k = Kangaroo(0,0)\n",
    "print(k)\n",
    "k.put_in_pouch('doll')\n",
    "k.put_in_pouch('firetruck')\n",
    "k.put_in_pouch('kitten')\n",
    "print(k.pouch_contents())\n",
    "k.jump(1,0)\n",
    "k.jump(1,0)\n",
    "k.jump(1,0)\n",
    "print(k)"
   ]
  },
  {
   "cell_type": "markdown",
   "id": "f07edfa6",
   "metadata": {},
   "source": [
    "Question 4\n",
    "Write function collatz() that takes a positive integer x as input and prints the\n",
    "Collatz sequence starting at x. A Collatz sequence is obtained by repeatedly applying\n",
    "this rule to the previous number x in the sequence:\n",
    "x = {\n",
    "𝑥/2 𝑖𝑓 𝑥 𝑖𝑠 𝑒𝑣𝑒𝑛\n",
    "3𝑥 + 1 𝑖𝑓 𝑥 𝑖𝑠 𝑜𝑑𝑑\n",
    "Your function should stop when the sequence gets to number 1. Your\n",
    "implementation must be recursive, without any loops.\n",
    ">>> collatz(1)\n",
    "1\n",
    ">>> collatz(10)\n",
    "10\n",
    "5\n",
    "16\n",
    "8\n",
    "4\n",
    "2\n",
    "1"
   ]
  },
  {
   "cell_type": "code",
   "execution_count": 10,
   "id": "782edb67",
   "metadata": {},
   "outputs": [],
   "source": [
    "def collatz(input):\n",
    "    \n",
    "    new_list = [input]\n",
    "    if input < 1:\n",
    "        return (\"Please Enter a postive integer\")\n",
    "\n",
    "    if input == 1:\n",
    "        return [1]\n",
    "    \n",
    "    elif input % 2 == 0:\n",
    "        new_list.extend(collatz(int(input/2)))\n",
    "    else:\n",
    "        new_list.extend(collatz((input*3)+1))\n",
    "    return new_list\n"
   ]
  },
  {
   "cell_type": "code",
   "execution_count": 11,
   "id": "a7f5b2be",
   "metadata": {},
   "outputs": [
    {
     "name": "stdout",
     "output_type": "stream",
     "text": [
      "1\n"
     ]
    }
   ],
   "source": [
    "values = collatz(1)\n",
    "for value in values:\n",
    "    print(value)"
   ]
  },
  {
   "cell_type": "code",
   "execution_count": 12,
   "id": "a94a0eab",
   "metadata": {},
   "outputs": [
    {
     "name": "stdout",
     "output_type": "stream",
     "text": [
      "10\n",
      "5\n",
      "16\n",
      "8\n",
      "4\n",
      "2\n",
      "1\n"
     ]
    }
   ],
   "source": [
    "values = collatz(10)\n",
    "for value in values:\n",
    "    print(value)"
   ]
  },
  {
   "cell_type": "markdown",
   "id": "5af3608a",
   "metadata": {},
   "source": [
    "Question 5\n",
    "Write a recursive method binary() that takes a non-negative\n",
    "integer n and prints the binary representation of integer n.\n",
    ">>> binary(0)\n",
    "0\n",
    ">>> binary(1)\n",
    "1\n",
    ">>> binary(3)\n",
    "11\n",
    ">>> binary(9)\n",
    "1001"
   ]
  },
  {
   "cell_type": "code",
   "execution_count": 13,
   "id": "0f6f87aa",
   "metadata": {},
   "outputs": [],
   "source": [
    "def binary(input): \n",
    "    if input<0: \n",
    "        return (\"Enter postive integer\")\n",
    "    \n",
    "    elif input >=1: \n",
    "        return ((10*binary(int(input/2))) + (input%2))\n",
    "        \n",
    "    else: \n",
    "        return 0\n",
    "    "
   ]
  },
  {
   "cell_type": "code",
   "execution_count": 14,
   "id": "07747775",
   "metadata": {},
   "outputs": [
    {
     "data": {
      "text/plain": [
       "0"
      ]
     },
     "execution_count": 14,
     "metadata": {},
     "output_type": "execute_result"
    }
   ],
   "source": [
    "binary(0)"
   ]
  },
  {
   "cell_type": "code",
   "execution_count": 15,
   "id": "496d5e55",
   "metadata": {},
   "outputs": [
    {
     "data": {
      "text/plain": [
       "1"
      ]
     },
     "execution_count": 15,
     "metadata": {},
     "output_type": "execute_result"
    }
   ],
   "source": [
    "binary(1)"
   ]
  },
  {
   "cell_type": "code",
   "execution_count": 16,
   "id": "57938503",
   "metadata": {},
   "outputs": [
    {
     "data": {
      "text/plain": [
       "11"
      ]
     },
     "execution_count": 16,
     "metadata": {},
     "output_type": "execute_result"
    }
   ],
   "source": [
    "binary(3)"
   ]
  },
  {
   "cell_type": "code",
   "execution_count": 17,
   "id": "8b35029e",
   "metadata": {},
   "outputs": [
    {
     "data": {
      "text/plain": [
       "1001"
      ]
     },
     "execution_count": 17,
     "metadata": {},
     "output_type": "execute_result"
    }
   ],
   "source": [
    "binary(9)"
   ]
  },
  {
   "cell_type": "markdown",
   "id": "bf54dbd1",
   "metadata": {},
   "source": [
    "Question 6\n",
    "Implement a class named HeadingParser that can be used to parse an HTMLdocument, and retrieve and print all the headings in the document. You should\n",
    "implement your class as a subclass of HTMLParser, defined in Standard Librarymodule html.parser. When fed a string containing HTML code, your class shouldprint the headings, one per line and in the order in which they appear in the\n",
    "document. Each heading should be indented as follows: an h1 heading should have indentation 0, and h2 heading should have indentation 1, etc. Test your implementation using w3c.html.\n",
    ">>> infile = open('w3c.html')\n",
    ">>> content = infile.read()\n",
    ">>> infile.close()\n",
    ">>> hp = HeadingParser()\n",
    ">>> hp.feed(content)\n",
    "W3C Mission\n",
    "Principles"
   ]
  },
  {
   "cell_type": "code",
   "execution_count": 22,
   "id": "ba977786",
   "metadata": {},
   "outputs": [
    {
     "name": "stdout",
     "output_type": "stream",
     "text": [
      "W3C Mission\n",
      "\tPrinciples\n"
     ]
    }
   ],
   "source": [
    "from html.parser import HTMLParser\n",
    "class HeadingParser(HTMLParser):\n",
    "    flag = False\n",
    "    indetation_value = 0\n",
    "    def handle_starttag(self, tag, attrs):  \n",
    "        if tag == \"h1\":  \n",
    "            self.flag = True \n",
    "            self.indetation_value = 0\n",
    "        elif tag == \"h2\":\n",
    "            self.flag = True\n",
    "            self.indetation_value = 1\n",
    "        elif tag == \"h3\":\n",
    "            self.flag = True\n",
    "            self.indetation_value = 2\n",
    "        elif tag == \"h4\":\n",
    "            self.flag = True\n",
    "            self.indetation_value = 3\n",
    "        elif tag == \"h5\":\n",
    "            self.flag = True\n",
    "            self.indetation_value = 4\n",
    "        elif tag == \"h6\":\n",
    "            self.flag = True\n",
    "            self.indetation_value = 5\n",
    "    def handle_data(self, data):  \n",
    "        if self.flag:\n",
    "            print (self.indetation_value*\"\\t\"+data)\n",
    "    def handle_endtag(self, tag):  \n",
    "        if tag == \"h1\":  \n",
    "            self.flag = False\n",
    "        elif tag == \"h2\":\n",
    "            self.flag = False\n",
    "        elif tag == \"h3\":\n",
    "            self.flag = False\n",
    "        elif tag == \"h4\":\n",
    "            self.flag = False\n",
    "        elif tag == \"h5\":\n",
    "            self.flag = False\n",
    "        elif tag == \"h6\":\n",
    "            self.flag = False\n",
    "\n",
    "infile = open('w3c.html')\n",
    "content = infile.read()\n",
    "infile.close()\n",
    "hp = HeadingParser()\n",
    "hp.feed(content)"
   ]
  },
  {
   "cell_type": "markdown",
   "id": "d1e3d315",
   "metadata": {},
   "source": [
    "Question 8\n",
    "Write SQL queries on the below database table that return:\n",
    "a) All the temperature data.\n",
    "b) All the cities, but without repetition.\n",
    "c) All the records for India.\n",
    "d) All the Fall records.\n",
    "e) The city, country, and season for which the average rainfall is between 200\n",
    "and 400 millimeters.\n",
    "f) The city and country for which the average Fall temperature is above 20\n",
    "degrees, in increasing temperature order.\n",
    "g) The total annual rainfall for Cairo.\n",
    "h) The total rainfall for each season.\n",
    "City Country Season Temperature\n",
    "(C)\n",
    "Rainfall\n",
    "(mm)\n",
    "Mumbai India Winter 24.8 5.9\n",
    "Mumbai India Spring 28.4 16.2\n",
    "Mumbai India Summer 27.9 1549.4\n",
    "Mumbai India Fall 27.6 346.0\n",
    "London United Kingdom Winter 4.2 207.7\n",
    "London United Kingdom Spring 8.3 169.6\n",
    "London United Kingdom Summer 15.7 157.0\n",
    "London United Kingdom Fall 10.4 218.5\n",
    "Cairo Egypt Winter 13.6 16.5\n",
    "Cairo Egypt Spring 20.7 6.5\n",
    "Cairo Egypt Summer 27.7 0.1\n",
    "Cairo Egypt Fall 22.2 4.5 "
   ]
  },
  {
   "cell_type": "code",
   "execution_count": 34,
   "id": "6155ea60",
   "metadata": {},
   "outputs": [
    {
     "data": {
      "text/plain": [
       "<sqlite3.Cursor at 0x7f8ea13171f0>"
      ]
     },
     "execution_count": 34,
     "metadata": {},
     "output_type": "execute_result"
    }
   ],
   "source": [
    "import sqlite3\n",
    "\n",
    "con = sqlite3.connect('web.db')\n",
    "cur = con.cursor()\n",
    "\n",
    "cur.execute(\"CREATE TABLE World (city, country, season, temperatureC, rainfall)\")\n",
    "cur.execute(\"INSERT INTO World VALUES ('Mumbai','India','Winter',24.8,5.9)\")\n",
    "cur.execute(\"INSERT INTO World VALUES ('Mumbai','India','Spring',28.4,16.2)\")\n",
    "cur.execute(\"INSERT INTO World VALUES ('Mumbai','India','Summer',27.9,1549.4)\")\n",
    "cur.execute(\"INSERT INTO World VALUES ('Mumbai','India','Fall',27.6,346.0)\")\n",
    "cur.execute(\"INSERT INTO World VALUES ('London','United Kingdom','Winter',4.2,207.7)\")\n",
    "cur.execute(\"INSERT INTO World VALUES ('London','United Kingdom','Spring',8.3,169.6)\")\n",
    "cur.execute(\"INSERT INTO World VALUES ('London','United Kingdom','Summer',15.7,157.0)\")\n",
    "cur.execute(\"INSERT INTO World VALUES ('London','United Kingdom','Fall',10.4,218.5)\")\n",
    "cur.execute(\"INSERT INTO World VALUES ('Cairo','Egypt','Winter',13.6,16.5)\")\n",
    "cur.execute(\"INSERT INTO World VALUES ('Cairo','Egypt','Spring',20.7,6.5)\")\n",
    "cur.execute(\"INSERT INTO World VALUES ('Cairo','Egypt','Summer',27.7,0.1)\")\n",
    "cur.execute(\"INSERT INTO World VALUES ('Cairo','Egypt','Fall',22.2,4.5)\")"
   ]
  },
  {
   "cell_type": "code",
   "execution_count": 35,
   "id": "68b900d4",
   "metadata": {},
   "outputs": [
    {
     "name": "stdout",
     "output_type": "stream",
     "text": [
      "('Mumbai', 'India', 'Winter', 24.8, 5.9)\n",
      "('Mumbai', 'India', 'Spring', 28.4, 16.2)\n",
      "('Mumbai', 'India', 'Summer', 27.9, 1549.4)\n",
      "('Mumbai', 'India', 'Fall', 27.6, 346.0)\n",
      "('London', 'United Kingdom', 'Winter', 4.2, 207.7)\n",
      "('London', 'United Kingdom', 'Spring', 8.3, 169.6)\n",
      "('London', 'United Kingdom', 'Summer', 15.7, 157.0)\n",
      "('London', 'United Kingdom', 'Fall', 10.4, 218.5)\n",
      "('Cairo', 'Egypt', 'Winter', 13.6, 16.5)\n",
      "('Cairo', 'Egypt', 'Spring', 20.7, 6.5)\n",
      "('Cairo', 'Egypt', 'Summer', 27.7, 0.1)\n",
      "('Cairo', 'Egypt', 'Fall', 22.2, 4.5)\n"
     ]
    }
   ],
   "source": [
    "cur.execute ('SELECT * FROM World')\n",
    "for record in cur:\n",
    "    print(record)"
   ]
  },
  {
   "cell_type": "code",
   "execution_count": null,
   "id": "17d7abeb",
   "metadata": {},
   "outputs": [],
   "source": [
    "a) All the temperature data."
   ]
  },
  {
   "cell_type": "code",
   "execution_count": 36,
   "id": "2230388d",
   "metadata": {},
   "outputs": [
    {
     "name": "stdout",
     "output_type": "stream",
     "text": [
      "(24.8,)\n",
      "(28.4,)\n",
      "(27.9,)\n",
      "(27.6,)\n",
      "(4.2,)\n",
      "(8.3,)\n",
      "(15.7,)\n",
      "(10.4,)\n",
      "(13.6,)\n",
      "(20.7,)\n",
      "(27.7,)\n",
      "(22.2,)\n"
     ]
    }
   ],
   "source": [
    "cur.execute ('SELECT temperatureC FROM World')\n",
    "for record in cur:\n",
    "    print(record)"
   ]
  },
  {
   "cell_type": "markdown",
   "id": "0a06464c",
   "metadata": {},
   "source": [
    "b) All the cities, but without repetition."
   ]
  },
  {
   "cell_type": "code",
   "execution_count": 37,
   "id": "88e60182",
   "metadata": {},
   "outputs": [
    {
     "name": "stdout",
     "output_type": "stream",
     "text": [
      "('Mumbai',)\n",
      "('London',)\n",
      "('Cairo',)\n"
     ]
    }
   ],
   "source": [
    "cur.execute ('SELECT distinct city FROM World')\n",
    "for record in cur:\n",
    "    print(record)"
   ]
  },
  {
   "cell_type": "markdown",
   "id": "851ce53f",
   "metadata": {},
   "source": [
    "c) All the records for India."
   ]
  },
  {
   "cell_type": "code",
   "execution_count": 40,
   "id": "5083bb70",
   "metadata": {},
   "outputs": [
    {
     "name": "stdout",
     "output_type": "stream",
     "text": [
      "('Mumbai', 'India', 'Winter', 24.8, 5.9)\n",
      "('Mumbai', 'India', 'Spring', 28.4, 16.2)\n",
      "('Mumbai', 'India', 'Summer', 27.9, 1549.4)\n",
      "('Mumbai', 'India', 'Fall', 27.6, 346.0)\n"
     ]
    }
   ],
   "source": [
    "cur.execute ('SELECT * FROM World where country = \"India\"')\n",
    "for record in cur:\n",
    "    print(record)"
   ]
  },
  {
   "cell_type": "markdown",
   "id": "a890fb09",
   "metadata": {},
   "source": [
    "d) All the Fall records."
   ]
  },
  {
   "cell_type": "code",
   "execution_count": 41,
   "id": "b4bca872",
   "metadata": {},
   "outputs": [
    {
     "name": "stdout",
     "output_type": "stream",
     "text": [
      "('Mumbai', 'India', 'Fall', 27.6, 346.0)\n",
      "('London', 'United Kingdom', 'Fall', 10.4, 218.5)\n",
      "('Cairo', 'Egypt', 'Fall', 22.2, 4.5)\n"
     ]
    }
   ],
   "source": [
    "cur.execute ('SELECT * FROM World where season = \"Fall\"')\n",
    "for record in cur:\n",
    "    print(record)"
   ]
  },
  {
   "cell_type": "markdown",
   "id": "094a9428",
   "metadata": {},
   "source": [
    "e) The city, country, and season for which the average rainfall is between 200 and 400 millimeters."
   ]
  },
  {
   "cell_type": "code",
   "execution_count": 47,
   "id": "9bffd718",
   "metadata": {},
   "outputs": [
    {
     "name": "stdout",
     "output_type": "stream",
     "text": [
      "('Mumbai', 'India', 'Fall')\n",
      "('London', 'United Kingdom', 'Winter')\n",
      "('London', 'United Kingdom', 'Fall')\n"
     ]
    }
   ],
   "source": [
    "cur.execute ('SELECT city, country,season FROM World where rainfall between 200 and 400')\n",
    "for record in cur:\n",
    "    print(record)"
   ]
  },
  {
   "cell_type": "markdown",
   "id": "054db763",
   "metadata": {},
   "source": [
    "f) The city and country for which the average Fall temperature is above 20 degrees, in increasing temperature order."
   ]
  },
  {
   "cell_type": "code",
   "execution_count": 50,
   "id": "8f400696",
   "metadata": {},
   "outputs": [
    {
     "name": "stdout",
     "output_type": "stream",
     "text": [
      "('Cairo', 'Egypt')\n",
      "('Mumbai', 'India')\n"
     ]
    }
   ],
   "source": [
    "cur.execute ('SELECT city, country FROM World where Season = \"Fall\" and temperatureC > 20 order by temperatureC')\n",
    "for record in cur:\n",
    "    print(record)"
   ]
  },
  {
   "cell_type": "markdown",
   "id": "e624d57d",
   "metadata": {},
   "source": [
    "g) The total annual rainfall for Cairo."
   ]
  },
  {
   "cell_type": "code",
   "execution_count": 53,
   "id": "de39a728",
   "metadata": {},
   "outputs": [
    {
     "name": "stdout",
     "output_type": "stream",
     "text": [
      "(27.6,)\n"
     ]
    }
   ],
   "source": [
    "cur.execute ('SELECT sum(rainfall) FROM World where city = \"Cairo\"')\n",
    "for record in cur:s\n",
    "    print(record)"
   ]
  },
  {
   "cell_type": "markdown",
   "id": "0ac5d4de",
   "metadata": {},
   "source": [
    "h) The total rainfall for each season."
   ]
  },
  {
   "cell_type": "code",
   "execution_count": 54,
   "id": "5520c292",
   "metadata": {},
   "outputs": [
    {
     "name": "stdout",
     "output_type": "stream",
     "text": [
      "('Fall', 569.0)\n",
      "('Spring', 192.29999999999998)\n",
      "('Summer', 1706.5)\n",
      "('Winter', 230.1)\n"
     ]
    }
   ],
   "source": [
    "cur.execute ('SELECT season, sum(rainfall) FROM World group by Season')\n",
    "for record in cur:\n",
    "    print(record)"
   ]
  },
  {
   "cell_type": "markdown",
   "id": "24a1cba3",
   "metadata": {},
   "source": [
    "Question 9\n",
    "Suppose list words is defined as follows:\n",
    "\n",
    "words = ['The', 'quick', 'brown', 'fox', 'jumps', 'over', 'the', 'lazy', 'dog']\n",
    "\n",
    "Write list comprehension expressions that use list words and generate the following lists:\n",
    "\n",
    "a) ['THE', 'QUICK', 'BROWN', 'FOX', 'JUMPS', 'OVER', 'THE', 'LAZY', 'DOG']\n",
    "\n",
    "b) ['the', 'quick', 'brown', 'fox', 'jumps', 'over', 'the', 'lazy', 'dog']\n",
    "\n",
    "c)[3, 5, 5, 3, 5, 4, 3, 4, 3](the list of lengths of words in list words).\n",
    "\n",
    "d) [['THE', 'the', 3], ['QUICK', 'quick', 5], ['BROWN', 'brown', 5], ['FOX', 'fox', 3], ['JUMPS', 'jumps', 5], ['OVER', 'over', 4], ['THE', 'the', 3], ['LAZY', 'lazy', 4], ['DOG', 'dog', 3]] (the list containing a list for every word of list words, where each list contains the word in uppercase and lowercase and the length of the word.)\n",
    "\n",
    "e) ['The', 'quick', 'brown', 'fox', 'jumps', 'over', 'the', 'lazy', 'dog'] (the list of words in list words containing 4 or more characters.)"
   ]
  },
  {
   "cell_type": "code",
   "execution_count": 21,
   "id": "59725698",
   "metadata": {},
   "outputs": [
    {
     "name": "stdout",
     "output_type": "stream",
     "text": [
      "['THE', 'QUICK', 'BROWN', 'FOX', 'JUMPS', 'OVER', 'THE', 'LAZY', 'DOG']\n",
      "['the', 'quick', 'brown', 'fox', 'jumps', 'over', 'the', 'lazy', 'dog']\n",
      "[3, 5, 5, 3, 5, 4, 3, 4, 3]\n",
      "[['THE', 'the', 3], ['QUICK', 'quick', 5], ['BROWN', 'brown', 5], ['FOX', 'fox', 3], ['JUMPS', 'jumps', 5], ['OVER', 'over', 4], ['THE', 'the', 3], ['LAZY', 'lazy', 4], ['DOG', 'dog', 3]]\n",
      "['quick', 'brown', 'jumps', 'over', 'lazy']\n"
     ]
    }
   ],
   "source": [
    "words = ['The', 'quick', 'brown', 'fox', 'jumps', 'over', 'the', 'lazy', 'dog']\n",
    "\n",
    "def upper(words):\n",
    "    upper_case_list = []\n",
    "    for word in words:\n",
    "        upper_case_list.append(word.upper())\n",
    "    return upper_case_list\n",
    "\n",
    "def lower(words):\n",
    "    lower_case_list = []\n",
    "    for word in words:\n",
    "        lower_case_list.append(word.lower())\n",
    "    return lower_case_list\n",
    "\n",
    "def length_of_words(words):\n",
    "    word_length_list = []\n",
    "    for word in words:\n",
    "        word_length_list.append(len(word))\n",
    "    return word_length_list\n",
    "\n",
    "def upper_lower_length_of_words(words):\n",
    "    final_list = []\n",
    "    upper_lower_length_of_words_list = []\n",
    "    for word in words:\n",
    "        upper_lower_length_of_words_list.clear()\n",
    "        upper_lower_length_of_words_list.append(word.upper())\n",
    "        upper_lower_length_of_words_list.append (word.lower())\n",
    "        upper_lower_length_of_words_list.append (len(word))\n",
    "        new_list = upper_lower_length_of_words_list.copy()\n",
    "        final_list.append(new_list)\n",
    "    return final_list\n",
    "\n",
    "def check_word_length(words):\n",
    "    word_length = []\n",
    "    for word in words:\n",
    "        if len(word) > 3:\n",
    "            word_length.append(word)\n",
    "    return word_length\n",
    "\n",
    "print(upper(words))\n",
    "print(lower(words))\n",
    "print(length_of_words(words))\n",
    "print(upper_lower_length_of_words(words))\n",
    "print(check_word_length(words))"
   ]
  },
  {
   "cell_type": "code",
   "execution_count": null,
   "id": "33e63554",
   "metadata": {},
   "outputs": [],
   "source": []
  }
 ],
 "metadata": {
  "kernelspec": {
   "display_name": "Python 3 (ipykernel)",
   "language": "python",
   "name": "python3"
  },
  "language_info": {
   "codemirror_mode": {
    "name": "ipython",
    "version": 3
   },
   "file_extension": ".py",
   "mimetype": "text/x-python",
   "name": "python",
   "nbconvert_exporter": "python",
   "pygments_lexer": "ipython3",
   "version": "3.9.12"
  }
 },
 "nbformat": 4,
 "nbformat_minor": 5
}
